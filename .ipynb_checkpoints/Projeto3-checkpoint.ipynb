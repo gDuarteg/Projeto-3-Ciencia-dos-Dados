{
 "cells": [
  {
   "cell_type": "markdown",
   "metadata": {},
   "source": [
    "___\n",
    "## Ciência dos Dados - PROJETO 3 - INSPER"
   ]
  },
  {
   "cell_type": "markdown",
   "metadata": {},
   "source": [
    "___\n",
    "#### Gabriel Duarte\n",
    "\n",
    "#### Beni Stern\n",
    "\n",
    "#### Henrique Thome\n",
    "\n",
    "#### Christiano Borges\n",
    "\n",
    "___"
   ]
  },
  {
   "cell_type": "markdown",
   "metadata": {},
   "source": [
    "# Valor de Jogadores de Futebol"
   ]
  },
  {
   "cell_type": "markdown",
   "metadata": {},
   "source": [
    "___\n",
    "\n",
    "## A. INTRODUÇÃO"
   ]
  },
  {
   "cell_type": "markdown",
   "metadata": {},
   "source": [
    "[Detalhe aqui o objetivo deste projeto!!]"
   ]
  },
  {
   "cell_type": "markdown",
   "metadata": {},
   "source": [
    "O futebol moderno nasceu em meados do século XIX e desde então não para de ganhar importância. Com o tempo, devido aos adventos do capitalismo esse esporte se tornou um grande mercado internacional com valores de transferências batendo a casa do bilhão de real, com enfoque nos últimos 5 anos, no qual as cifras aumentaram drasticamente.\n",
    "Devido a esse forte aumento nos valores da transferência surgem teorias e desconfianças de que alguns jogadores tem seus valores aumentados como uma forma de lavar dinheiro.\n",
    "Dessa forma esse projeto tem o objetivo de modelar a precificação  dos atletas para servir tanto como uma ferramenta para os dirigentes consultarem o preço de mercado dos atletas quanto para órgãos governamentais consultarem suspeitas de lavagem de dinheiro"
   ]
  },
  {
   "cell_type": "markdown",
   "metadata": {},
   "source": [
    "___\n",
    "## B. MINERANDO DADOS e CARACTERÍSTICAS DO DATASET"
   ]
  },
  {
   "cell_type": "markdown",
   "metadata": {},
   "source": [
    "[Detalhe aqui as características da base de dados além da análise descritiva.]"
   ]
  },
  {
   "cell_type": "code",
   "execution_count": 185,
   "metadata": {},
   "outputs": [],
   "source": [
    "import pandas as pd\n",
    "import os\n",
    "import matplotlib.pyplot as plt\n",
    "import numpy as np\n",
    "import seaborn as sns\n",
    "from scipy.stats import norm, probplot\n",
    "from scipy import stats\n",
    "import statsmodels.api as sm\n",
    "\n",
    "from sklearn.neighbors import KNeighborsRegressor\n",
    "from sklearn.linear_model import LinearRegression\n",
    "from sklearn.tree import DecisionTreeRegressor\n",
    "from sklearn.ensemble import RandomForestRegressor\n",
    "from sklearn.model_selection import train_test_split\n",
    "from sklearn.metrics import mean_squared_error\n",
    "\n",
    "%matplotlib inline"
   ]
  },
  {
   "cell_type": "code",
   "execution_count": 188,
   "metadata": {},
   "outputs": [
    {
     "name": "stdout",
     "output_type": "stream",
     "text": [
      "Esperamos trabalhar no diretório\n",
      "C:\\Users\\Duarte\\Downloads\\INSPER aqui tbm\\DADOS DP\\Projeto 3\\Projeto-3-Ciencia-dos-Dados\n"
     ]
    }
   ],
   "source": [
    "print('Esperamos trabalhar no diretório')\n",
    "print(os.getcwd())"
   ]
  },
  {
   "cell_type": "markdown",
   "metadata": {},
   "source": [
    "### BASE DE DADOS"
   ]
  },
  {
   "cell_type": "code",
   "execution_count": 189,
   "metadata": {},
   "outputs": [
    {
     "data": {
      "text/html": [
       "<div>\n",
       "<style scoped>\n",
       "    .dataframe tbody tr th:only-of-type {\n",
       "        vertical-align: middle;\n",
       "    }\n",
       "\n",
       "    .dataframe tbody tr th {\n",
       "        vertical-align: top;\n",
       "    }\n",
       "\n",
       "    .dataframe thead th {\n",
       "        text-align: right;\n",
       "    }\n",
       "</style>\n",
       "<table border=\"1\" class=\"dataframe\">\n",
       "  <thead>\n",
       "    <tr style=\"text-align: right;\">\n",
       "      <th></th>\n",
       "      <th>Unnamed: 0</th>\n",
       "      <th>ID</th>\n",
       "      <th>Name</th>\n",
       "      <th>Age</th>\n",
       "      <th>Photo</th>\n",
       "      <th>Nationality</th>\n",
       "      <th>Flag</th>\n",
       "      <th>Overall</th>\n",
       "      <th>Potential</th>\n",
       "      <th>Club</th>\n",
       "      <th>...</th>\n",
       "      <th>Composure</th>\n",
       "      <th>Marking</th>\n",
       "      <th>StandingTackle</th>\n",
       "      <th>SlidingTackle</th>\n",
       "      <th>GKDiving</th>\n",
       "      <th>GKHandling</th>\n",
       "      <th>GKKicking</th>\n",
       "      <th>GKPositioning</th>\n",
       "      <th>GKReflexes</th>\n",
       "      <th>Release Clause</th>\n",
       "    </tr>\n",
       "  </thead>\n",
       "  <tbody>\n",
       "    <tr>\n",
       "      <th>0</th>\n",
       "      <td>0</td>\n",
       "      <td>158023</td>\n",
       "      <td>L. Messi</td>\n",
       "      <td>31</td>\n",
       "      <td>https://cdn.sofifa.org/players/4/19/158023.png</td>\n",
       "      <td>Argentina</td>\n",
       "      <td>https://cdn.sofifa.org/flags/52.png</td>\n",
       "      <td>94</td>\n",
       "      <td>94</td>\n",
       "      <td>FC Barcelona</td>\n",
       "      <td>...</td>\n",
       "      <td>96.0</td>\n",
       "      <td>33.0</td>\n",
       "      <td>28.0</td>\n",
       "      <td>26.0</td>\n",
       "      <td>6.0</td>\n",
       "      <td>11.0</td>\n",
       "      <td>15.0</td>\n",
       "      <td>14.0</td>\n",
       "      <td>8.0</td>\n",
       "      <td>€226.5M</td>\n",
       "    </tr>\n",
       "    <tr>\n",
       "      <th>1</th>\n",
       "      <td>1</td>\n",
       "      <td>20801</td>\n",
       "      <td>Cristiano Ronaldo</td>\n",
       "      <td>33</td>\n",
       "      <td>https://cdn.sofifa.org/players/4/19/20801.png</td>\n",
       "      <td>Portugal</td>\n",
       "      <td>https://cdn.sofifa.org/flags/38.png</td>\n",
       "      <td>94</td>\n",
       "      <td>94</td>\n",
       "      <td>Juventus</td>\n",
       "      <td>...</td>\n",
       "      <td>95.0</td>\n",
       "      <td>28.0</td>\n",
       "      <td>31.0</td>\n",
       "      <td>23.0</td>\n",
       "      <td>7.0</td>\n",
       "      <td>11.0</td>\n",
       "      <td>15.0</td>\n",
       "      <td>14.0</td>\n",
       "      <td>11.0</td>\n",
       "      <td>€127.1M</td>\n",
       "    </tr>\n",
       "    <tr>\n",
       "      <th>2</th>\n",
       "      <td>2</td>\n",
       "      <td>190871</td>\n",
       "      <td>Neymar Jr</td>\n",
       "      <td>26</td>\n",
       "      <td>https://cdn.sofifa.org/players/4/19/190871.png</td>\n",
       "      <td>Brazil</td>\n",
       "      <td>https://cdn.sofifa.org/flags/54.png</td>\n",
       "      <td>92</td>\n",
       "      <td>93</td>\n",
       "      <td>Paris Saint-Germain</td>\n",
       "      <td>...</td>\n",
       "      <td>94.0</td>\n",
       "      <td>27.0</td>\n",
       "      <td>24.0</td>\n",
       "      <td>33.0</td>\n",
       "      <td>9.0</td>\n",
       "      <td>9.0</td>\n",
       "      <td>15.0</td>\n",
       "      <td>15.0</td>\n",
       "      <td>11.0</td>\n",
       "      <td>€228.1M</td>\n",
       "    </tr>\n",
       "    <tr>\n",
       "      <th>3</th>\n",
       "      <td>3</td>\n",
       "      <td>193080</td>\n",
       "      <td>De Gea</td>\n",
       "      <td>27</td>\n",
       "      <td>https://cdn.sofifa.org/players/4/19/193080.png</td>\n",
       "      <td>Spain</td>\n",
       "      <td>https://cdn.sofifa.org/flags/45.png</td>\n",
       "      <td>91</td>\n",
       "      <td>93</td>\n",
       "      <td>Manchester United</td>\n",
       "      <td>...</td>\n",
       "      <td>68.0</td>\n",
       "      <td>15.0</td>\n",
       "      <td>21.0</td>\n",
       "      <td>13.0</td>\n",
       "      <td>90.0</td>\n",
       "      <td>85.0</td>\n",
       "      <td>87.0</td>\n",
       "      <td>88.0</td>\n",
       "      <td>94.0</td>\n",
       "      <td>€138.6M</td>\n",
       "    </tr>\n",
       "    <tr>\n",
       "      <th>4</th>\n",
       "      <td>4</td>\n",
       "      <td>192985</td>\n",
       "      <td>K. De Bruyne</td>\n",
       "      <td>27</td>\n",
       "      <td>https://cdn.sofifa.org/players/4/19/192985.png</td>\n",
       "      <td>Belgium</td>\n",
       "      <td>https://cdn.sofifa.org/flags/7.png</td>\n",
       "      <td>91</td>\n",
       "      <td>92</td>\n",
       "      <td>Manchester City</td>\n",
       "      <td>...</td>\n",
       "      <td>88.0</td>\n",
       "      <td>68.0</td>\n",
       "      <td>58.0</td>\n",
       "      <td>51.0</td>\n",
       "      <td>15.0</td>\n",
       "      <td>13.0</td>\n",
       "      <td>5.0</td>\n",
       "      <td>10.0</td>\n",
       "      <td>13.0</td>\n",
       "      <td>€196.4M</td>\n",
       "    </tr>\n",
       "  </tbody>\n",
       "</table>\n",
       "<p>5 rows × 89 columns</p>\n",
       "</div>"
      ],
      "text/plain": [
       "   Unnamed: 0      ID               Name  Age  \\\n",
       "0           0  158023           L. Messi   31   \n",
       "1           1   20801  Cristiano Ronaldo   33   \n",
       "2           2  190871          Neymar Jr   26   \n",
       "3           3  193080             De Gea   27   \n",
       "4           4  192985       K. De Bruyne   27   \n",
       "\n",
       "                                            Photo Nationality  \\\n",
       "0  https://cdn.sofifa.org/players/4/19/158023.png   Argentina   \n",
       "1   https://cdn.sofifa.org/players/4/19/20801.png    Portugal   \n",
       "2  https://cdn.sofifa.org/players/4/19/190871.png      Brazil   \n",
       "3  https://cdn.sofifa.org/players/4/19/193080.png       Spain   \n",
       "4  https://cdn.sofifa.org/players/4/19/192985.png     Belgium   \n",
       "\n",
       "                                  Flag  Overall  Potential  \\\n",
       "0  https://cdn.sofifa.org/flags/52.png       94         94   \n",
       "1  https://cdn.sofifa.org/flags/38.png       94         94   \n",
       "2  https://cdn.sofifa.org/flags/54.png       92         93   \n",
       "3  https://cdn.sofifa.org/flags/45.png       91         93   \n",
       "4   https://cdn.sofifa.org/flags/7.png       91         92   \n",
       "\n",
       "                  Club      ...       Composure Marking StandingTackle  \\\n",
       "0         FC Barcelona      ...            96.0    33.0           28.0   \n",
       "1             Juventus      ...            95.0    28.0           31.0   \n",
       "2  Paris Saint-Germain      ...            94.0    27.0           24.0   \n",
       "3    Manchester United      ...            68.0    15.0           21.0   \n",
       "4      Manchester City      ...            88.0    68.0           58.0   \n",
       "\n",
       "   SlidingTackle GKDiving  GKHandling  GKKicking  GKPositioning GKReflexes  \\\n",
       "0           26.0      6.0        11.0       15.0           14.0        8.0   \n",
       "1           23.0      7.0        11.0       15.0           14.0       11.0   \n",
       "2           33.0      9.0         9.0       15.0           15.0       11.0   \n",
       "3           13.0     90.0        85.0       87.0           88.0       94.0   \n",
       "4           51.0     15.0        13.0        5.0           10.0       13.0   \n",
       "\n",
       "  Release Clause  \n",
       "0        €226.5M  \n",
       "1        €127.1M  \n",
       "2        €228.1M  \n",
       "3        €138.6M  \n",
       "4        €196.4M  \n",
       "\n",
       "[5 rows x 89 columns]"
      ]
     },
     "execution_count": 189,
     "metadata": {},
     "output_type": "execute_result"
    }
   ],
   "source": [
    "dados = pd.read_csv(\"data.csv\")\n",
    "dados.head()"
   ]
  },
  {
   "cell_type": "code",
   "execution_count": 190,
   "metadata": {},
   "outputs": [],
   "source": [
    "def Filtro(dados,coluna):\n",
    "    lista = []\n",
    "    for e in dados[coluna]:\n",
    "        str_e = str(e)\n",
    "        novo = str_e.replace(\"€\",\"\").replace(\"M\",\"\").replace(\"K\",\"\").replace(\"lbs\",\"\").replace(\"'\",\".\").replace(\"+3\",\"\").replace(\"+2\",\"\").replace(\"+5\",\"\").replace(\"+4\",\"\")\n",
    "        lista.append(float(novo))\n",
    "    \n",
    "    return lista"
   ]
  },
  {
   "cell_type": "code",
   "execution_count": 191,
   "metadata": {},
   "outputs": [
    {
     "data": {
      "text/html": [
       "<div>\n",
       "<style scoped>\n",
       "    .dataframe tbody tr th:only-of-type {\n",
       "        vertical-align: middle;\n",
       "    }\n",
       "\n",
       "    .dataframe tbody tr th {\n",
       "        vertical-align: top;\n",
       "    }\n",
       "\n",
       "    .dataframe thead th {\n",
       "        text-align: right;\n",
       "    }\n",
       "</style>\n",
       "<table border=\"1\" class=\"dataframe\">\n",
       "  <thead>\n",
       "    <tr style=\"text-align: right;\">\n",
       "      <th></th>\n",
       "      <th>Release Clause</th>\n",
       "      <th>ID</th>\n",
       "      <th>Age</th>\n",
       "      <th>Overall</th>\n",
       "      <th>Potential</th>\n",
       "      <th>Value</th>\n",
       "      <th>Wage</th>\n",
       "      <th>Special</th>\n",
       "      <th>International Reputation</th>\n",
       "      <th>Weak Foot</th>\n",
       "      <th>...</th>\n",
       "      <th>Penalties</th>\n",
       "      <th>Composure</th>\n",
       "      <th>Marking</th>\n",
       "      <th>StandingTackle</th>\n",
       "      <th>SlidingTackle</th>\n",
       "      <th>GKDiving</th>\n",
       "      <th>GKHandling</th>\n",
       "      <th>GKKicking</th>\n",
       "      <th>GKPositioning</th>\n",
       "      <th>GKReflexes</th>\n",
       "    </tr>\n",
       "  </thead>\n",
       "  <tbody>\n",
       "    <tr>\n",
       "      <th>0</th>\n",
       "      <td>226.5</td>\n",
       "      <td>158023.0</td>\n",
       "      <td>31.0</td>\n",
       "      <td>94.0</td>\n",
       "      <td>94.0</td>\n",
       "      <td>110.5</td>\n",
       "      <td>565.0</td>\n",
       "      <td>2202.0</td>\n",
       "      <td>5.0</td>\n",
       "      <td>4.0</td>\n",
       "      <td>...</td>\n",
       "      <td>75.0</td>\n",
       "      <td>96.0</td>\n",
       "      <td>33.0</td>\n",
       "      <td>28.0</td>\n",
       "      <td>26.0</td>\n",
       "      <td>6.0</td>\n",
       "      <td>11.0</td>\n",
       "      <td>15.0</td>\n",
       "      <td>14.0</td>\n",
       "      <td>8.0</td>\n",
       "    </tr>\n",
       "    <tr>\n",
       "      <th>1</th>\n",
       "      <td>127.1</td>\n",
       "      <td>20801.0</td>\n",
       "      <td>33.0</td>\n",
       "      <td>94.0</td>\n",
       "      <td>94.0</td>\n",
       "      <td>77.0</td>\n",
       "      <td>405.0</td>\n",
       "      <td>2228.0</td>\n",
       "      <td>5.0</td>\n",
       "      <td>4.0</td>\n",
       "      <td>...</td>\n",
       "      <td>85.0</td>\n",
       "      <td>95.0</td>\n",
       "      <td>28.0</td>\n",
       "      <td>31.0</td>\n",
       "      <td>23.0</td>\n",
       "      <td>7.0</td>\n",
       "      <td>11.0</td>\n",
       "      <td>15.0</td>\n",
       "      <td>14.0</td>\n",
       "      <td>11.0</td>\n",
       "    </tr>\n",
       "    <tr>\n",
       "      <th>2</th>\n",
       "      <td>228.1</td>\n",
       "      <td>190871.0</td>\n",
       "      <td>26.0</td>\n",
       "      <td>92.0</td>\n",
       "      <td>93.0</td>\n",
       "      <td>118.5</td>\n",
       "      <td>290.0</td>\n",
       "      <td>2143.0</td>\n",
       "      <td>5.0</td>\n",
       "      <td>5.0</td>\n",
       "      <td>...</td>\n",
       "      <td>81.0</td>\n",
       "      <td>94.0</td>\n",
       "      <td>27.0</td>\n",
       "      <td>24.0</td>\n",
       "      <td>33.0</td>\n",
       "      <td>9.0</td>\n",
       "      <td>9.0</td>\n",
       "      <td>15.0</td>\n",
       "      <td>15.0</td>\n",
       "      <td>11.0</td>\n",
       "    </tr>\n",
       "    <tr>\n",
       "      <th>4</th>\n",
       "      <td>196.4</td>\n",
       "      <td>192985.0</td>\n",
       "      <td>27.0</td>\n",
       "      <td>91.0</td>\n",
       "      <td>92.0</td>\n",
       "      <td>102.0</td>\n",
       "      <td>355.0</td>\n",
       "      <td>2281.0</td>\n",
       "      <td>4.0</td>\n",
       "      <td>5.0</td>\n",
       "      <td>...</td>\n",
       "      <td>79.0</td>\n",
       "      <td>88.0</td>\n",
       "      <td>68.0</td>\n",
       "      <td>58.0</td>\n",
       "      <td>51.0</td>\n",
       "      <td>15.0</td>\n",
       "      <td>13.0</td>\n",
       "      <td>5.0</td>\n",
       "      <td>10.0</td>\n",
       "      <td>13.0</td>\n",
       "    </tr>\n",
       "    <tr>\n",
       "      <th>5</th>\n",
       "      <td>172.1</td>\n",
       "      <td>183277.0</td>\n",
       "      <td>27.0</td>\n",
       "      <td>91.0</td>\n",
       "      <td>91.0</td>\n",
       "      <td>93.0</td>\n",
       "      <td>340.0</td>\n",
       "      <td>2142.0</td>\n",
       "      <td>4.0</td>\n",
       "      <td>4.0</td>\n",
       "      <td>...</td>\n",
       "      <td>86.0</td>\n",
       "      <td>91.0</td>\n",
       "      <td>34.0</td>\n",
       "      <td>27.0</td>\n",
       "      <td>22.0</td>\n",
       "      <td>11.0</td>\n",
       "      <td>12.0</td>\n",
       "      <td>6.0</td>\n",
       "      <td>8.0</td>\n",
       "      <td>8.0</td>\n",
       "    </tr>\n",
       "  </tbody>\n",
       "</table>\n",
       "<p>5 rows × 74 columns</p>\n",
       "</div>"
      ],
      "text/plain": [
       "   Release Clause        ID   Age  Overall  Potential  Value   Wage  Special  \\\n",
       "0           226.5  158023.0  31.0     94.0       94.0  110.5  565.0   2202.0   \n",
       "1           127.1   20801.0  33.0     94.0       94.0   77.0  405.0   2228.0   \n",
       "2           228.1  190871.0  26.0     92.0       93.0  118.5  290.0   2143.0   \n",
       "4           196.4  192985.0  27.0     91.0       92.0  102.0  355.0   2281.0   \n",
       "5           172.1  183277.0  27.0     91.0       91.0   93.0  340.0   2142.0   \n",
       "\n",
       "   International Reputation  Weak Foot     ...      Penalties  Composure  \\\n",
       "0                       5.0        4.0     ...           75.0       96.0   \n",
       "1                       5.0        4.0     ...           85.0       95.0   \n",
       "2                       5.0        5.0     ...           81.0       94.0   \n",
       "4                       4.0        5.0     ...           79.0       88.0   \n",
       "5                       4.0        4.0     ...           86.0       91.0   \n",
       "\n",
       "   Marking  StandingTackle  SlidingTackle  GKDiving  GKHandling  GKKicking  \\\n",
       "0     33.0            28.0           26.0       6.0        11.0       15.0   \n",
       "1     28.0            31.0           23.0       7.0        11.0       15.0   \n",
       "2     27.0            24.0           33.0       9.0         9.0       15.0   \n",
       "4     68.0            58.0           51.0      15.0        13.0        5.0   \n",
       "5     34.0            27.0           22.0      11.0        12.0        6.0   \n",
       "\n",
       "   GKPositioning  GKReflexes  \n",
       "0           14.0         8.0  \n",
       "1           14.0        11.0  \n",
       "2           15.0        11.0  \n",
       "4           10.0        13.0  \n",
       "5            8.0         8.0  \n",
       "\n",
       "[5 rows x 74 columns]"
      ]
     },
     "execution_count": 191,
     "metadata": {},
     "output_type": "execute_result"
    }
   ],
   "source": [
    "Variaveis = [\"Release Clause\",'ID','Age','Overall','Potential','Value','Wage','Special','International Reputation','Weak Foot','Skill Moves','Jersey Number','Height','Weight','LS','ST','RS','LW','LF','CF','RF','RW','LAM','CAM','RAM','LM','LCM','CM','RCM','RM','LWB','LDM','CDM','RDM','RWB','LB','LCB','CB','RCB','RB','Crossing','Finishing','HeadingAccuracy','ShortPassing','Volleys','Dribbling','Curve','FKAccuracy','LongPassing','BallControl','Acceleration','SprintSpeed','Agility','Reactions','Balance','ShotPower','Jumping','Stamina','Strength','LongShots','Aggression','Interceptions','Positioning','Vision','Penalties','Composure','Marking','StandingTackle','SlidingTackle','GKDiving','GKHandling','GKKicking','GKPositioning','GKReflexes']\n",
    "for e in Variaveis:\n",
    "    dados[e] = pd.DataFrame(Filtro(dados,e))\n",
    "dados = dados[Variaveis].dropna()\n",
    "dados.head()"
   ]
  },
  {
   "cell_type": "code",
   "execution_count": 192,
   "metadata": {
    "scrolled": true
   },
   "outputs": [
    {
     "data": {
      "image/png": "[encoded data removed]",
      "text/plain": [
       "<matplotlib.figure.Figure at 0x1794c1037f0>"
      ]
     },
     "metadata": {},
     "output_type": "display_data"
    }
   ],
   "source": [
    "dados['Release Clause'].plot.hist()\n",
    "plt.suptitle(\"Release Clause\");"
   ]
  },
  {
   "cell_type": "code",
   "execution_count": 193,
   "metadata": {},
   "outputs": [
    {
     "data": {
      "text/html": [
       "<div>\n",
       "<style scoped>\n",
       "    .dataframe tbody tr th:only-of-type {\n",
       "        vertical-align: middle;\n",
       "    }\n",
       "\n",
       "    .dataframe tbody tr th {\n",
       "        vertical-align: top;\n",
       "    }\n",
       "\n",
       "    .dataframe thead th {\n",
       "        text-align: right;\n",
       "    }\n",
       "</style>\n",
       "<table border=\"1\" class=\"dataframe\">\n",
       "  <thead>\n",
       "    <tr style=\"text-align: right;\">\n",
       "      <th></th>\n",
       "      <th>Release Clause</th>\n",
       "      <th>Overall</th>\n",
       "      <th>International Reputation</th>\n",
       "      <th>Potential</th>\n",
       "    </tr>\n",
       "  </thead>\n",
       "  <tbody>\n",
       "    <tr>\n",
       "      <th>0</th>\n",
       "      <td>226.5</td>\n",
       "      <td>94.0</td>\n",
       "      <td>5.0</td>\n",
       "      <td>94.0</td>\n",
       "    </tr>\n",
       "    <tr>\n",
       "      <th>1</th>\n",
       "      <td>127.1</td>\n",
       "      <td>94.0</td>\n",
       "      <td>5.0</td>\n",
       "      <td>94.0</td>\n",
       "    </tr>\n",
       "    <tr>\n",
       "      <th>2</th>\n",
       "      <td>228.1</td>\n",
       "      <td>92.0</td>\n",
       "      <td>5.0</td>\n",
       "      <td>93.0</td>\n",
       "    </tr>\n",
       "    <tr>\n",
       "      <th>4</th>\n",
       "      <td>196.4</td>\n",
       "      <td>91.0</td>\n",
       "      <td>4.0</td>\n",
       "      <td>92.0</td>\n",
       "    </tr>\n",
       "    <tr>\n",
       "      <th>5</th>\n",
       "      <td>172.1</td>\n",
       "      <td>91.0</td>\n",
       "      <td>4.0</td>\n",
       "      <td>91.0</td>\n",
       "    </tr>\n",
       "  </tbody>\n",
       "</table>\n",
       "</div>"
      ],
      "text/plain": [
       "   Release Clause  Overall  International Reputation  Potential\n",
       "0           226.5     94.0                       5.0       94.0\n",
       "1           127.1     94.0                       5.0       94.0\n",
       "2           228.1     92.0                       5.0       93.0\n",
       "4           196.4     91.0                       4.0       92.0\n",
       "5           172.1     91.0                       4.0       91.0"
      ]
     },
     "execution_count": 193,
     "metadata": {},
     "output_type": "execute_result"
    }
   ],
   "source": [
    "dados_escolhidos = dados[['Release Clause','Overall','International Reputation','Potential']]\n",
    "dados_escolhidos.head()"
   ]
  },
  {
   "cell_type": "code",
   "execution_count": 194,
   "metadata": {
    "scrolled": true
   },
   "outputs": [
    {
     "data": {
      "text/html": [
       "<div>\n",
       "<style scoped>\n",
       "    .dataframe tbody tr th:only-of-type {\n",
       "        vertical-align: middle;\n",
       "    }\n",
       "\n",
       "    .dataframe tbody tr th {\n",
       "        vertical-align: top;\n",
       "    }\n",
       "\n",
       "    .dataframe thead th {\n",
       "        text-align: right;\n",
       "    }\n",
       "</style>\n",
       "<table border=\"1\" class=\"dataframe\">\n",
       "  <thead>\n",
       "    <tr style=\"text-align: right;\">\n",
       "      <th></th>\n",
       "      <th>Release Clause</th>\n",
       "    </tr>\n",
       "  </thead>\n",
       "  <tbody>\n",
       "    <tr>\n",
       "      <th>Release Clause</th>\n",
       "      <td>1.000000</td>\n",
       "    </tr>\n",
       "    <tr>\n",
       "      <th>Overall</th>\n",
       "      <td>-0.417279</td>\n",
       "    </tr>\n",
       "    <tr>\n",
       "      <th>International Reputation</th>\n",
       "      <td>-0.167733</td>\n",
       "    </tr>\n",
       "    <tr>\n",
       "      <th>Potential</th>\n",
       "      <td>-0.405872</td>\n",
       "    </tr>\n",
       "  </tbody>\n",
       "</table>\n",
       "</div>"
      ],
      "text/plain": [
       "                          Release Clause\n",
       "Release Clause                  1.000000\n",
       "Overall                        -0.417279\n",
       "International Reputation       -0.167733\n",
       "Potential                      -0.405872"
      ]
     },
     "execution_count": 194,
     "metadata": {},
     "output_type": "execute_result"
    }
   ],
   "source": [
    "pd.DataFrame(dados_escolhidos.corr()['Release Clause'])"
   ]
  },
  {
   "cell_type": "code",
   "execution_count": 231,
   "metadata": {},
   "outputs": [
    {
     "data": {
      "text/html": [
       "<table class=\"simpletable\">\n",
       "<caption>OLS Regression Results</caption>\n",
       "<tr>\n",
       "  <th>Dep. Variable:</th>     <td>Release Clause</td>  <th>  R-squared:         </th>  <td>   0.209</td>  \n",
       "</tr>\n",
       "<tr>\n",
       "  <th>Model:</th>                   <td>OLS</td>       <th>  Adj. R-squared:    </th>  <td>   0.209</td>  \n",
       "</tr>\n",
       "<tr>\n",
       "  <th>Method:</th>             <td>Least Squares</td>  <th>  F-statistic:       </th>  <td>   1300.</td>  \n",
       "</tr>\n",
       "<tr>\n",
       "  <th>Date:</th>             <td>Tue, 28 May 2019</td> <th>  Prob (F-statistic):</th>   <td>  0.00</td>   \n",
       "</tr>\n",
       "<tr>\n",
       "  <th>Time:</th>                 <td>21:28:15</td>     <th>  Log-Likelihood:    </th> <td>-1.0336e+05</td>\n",
       "</tr>\n",
       "<tr>\n",
       "  <th>No. Observations:</th>      <td> 14743</td>      <th>  AIC:               </th>  <td>2.067e+05</td> \n",
       "</tr>\n",
       "<tr>\n",
       "  <th>Df Residuals:</th>          <td> 14739</td>      <th>  BIC:               </th>  <td>2.068e+05</td> \n",
       "</tr>\n",
       "<tr>\n",
       "  <th>Df Model:</th>              <td>     3</td>      <th>                     </th>      <td> </td>     \n",
       "</tr>\n",
       "<tr>\n",
       "  <th>Covariance Type:</th>      <td>nonrobust</td>    <th>                     </th>      <td> </td>     \n",
       "</tr>\n",
       "</table>\n",
       "<table class=\"simpletable\">\n",
       "<tr>\n",
       "              <td></td>                <th>coef</th>     <th>std err</th>      <th>t</th>      <th>P>|t|</th>  <th>[0.025</th>    <th>0.975]</th>  \n",
       "</tr>\n",
       "<tr>\n",
       "  <th>const</th>                    <td> 1874.3301</td> <td>   27.388</td> <td>   68.437</td> <td> 0.000</td> <td> 1820.647</td> <td> 1928.013</td>\n",
       "</tr>\n",
       "<tr>\n",
       "  <th>Overall</th>                  <td>  -13.0861</td> <td>    0.455</td> <td>  -28.732</td> <td> 0.000</td> <td>  -13.979</td> <td>  -12.193</td>\n",
       "</tr>\n",
       "<tr>\n",
       "  <th>International Reputation</th> <td>   56.1972</td> <td>    6.412</td> <td>    8.765</td> <td> 0.000</td> <td>   43.629</td> <td>   68.765</td>\n",
       "</tr>\n",
       "<tr>\n",
       "  <th>Potential</th>                <td>  -11.8245</td> <td>    0.480</td> <td>  -24.635</td> <td> 0.000</td> <td>  -12.765</td> <td>  -10.884</td>\n",
       "</tr>\n",
       "</table>\n",
       "<table class=\"simpletable\">\n",
       "<tr>\n",
       "  <th>Omnibus:</th>       <td>1979.524</td> <th>  Durbin-Watson:     </th> <td>   1.549</td>\n",
       "</tr>\n",
       "<tr>\n",
       "  <th>Prob(Omnibus):</th>  <td> 0.000</td>  <th>  Jarque-Bera (JB):  </th> <td>2876.198</td>\n",
       "</tr>\n",
       "<tr>\n",
       "  <th>Skew:</th>           <td> 1.068</td>  <th>  Prob(JB):          </th> <td>    0.00</td>\n",
       "</tr>\n",
       "<tr>\n",
       "  <th>Kurtosis:</th>       <td> 3.344</td>  <th>  Cond. No.          </th> <td>1.21e+03</td>\n",
       "</tr>\n",
       "</table>"
      ],
      "text/plain": [
       "<class 'statsmodels.iolib.summary.Summary'>\n",
       "\"\"\"\n",
       "                            OLS Regression Results                            \n",
       "==============================================================================\n",
       "Dep. Variable:         Release Clause   R-squared:                       0.209\n",
       "Model:                            OLS   Adj. R-squared:                  0.209\n",
       "Method:                 Least Squares   F-statistic:                     1300.\n",
       "Date:                Tue, 28 May 2019   Prob (F-statistic):               0.00\n",
       "Time:                        21:28:15   Log-Likelihood:            -1.0336e+05\n",
       "No. Observations:               14743   AIC:                         2.067e+05\n",
       "Df Residuals:                   14739   BIC:                         2.068e+05\n",
       "Df Model:                           3                                         \n",
       "Covariance Type:            nonrobust                                         \n",
       "============================================================================================\n",
       "                               coef    std err          t      P>|t|      [0.025      0.975]\n",
       "--------------------------------------------------------------------------------------------\n",
       "const                     1874.3301     27.388     68.437      0.000    1820.647    1928.013\n",
       "Overall                    -13.0861      0.455    -28.732      0.000     -13.979     -12.193\n",
       "International Reputation    56.1972      6.412      8.765      0.000      43.629      68.765\n",
       "Potential                  -11.8245      0.480    -24.635      0.000     -12.765     -10.884\n",
       "==============================================================================\n",
       "Omnibus:                     1979.524   Durbin-Watson:                   1.549\n",
       "Prob(Omnibus):                  0.000   Jarque-Bera (JB):             2876.198\n",
       "Skew:                           1.068   Prob(JB):                         0.00\n",
       "Kurtosis:                       3.344   Cond. No.                     1.21e+03\n",
       "==============================================================================\n",
       "\n",
       "Warnings:\n",
       "[1] Standard Errors assume that the covariance matrix of the errors is correctly specified.\n",
       "[2] The condition number is large, 1.21e+03. This might indicate that there are\n",
       "strong multicollinearity or other numerical problems.\n",
       "\"\"\""
      ]
     },
     "execution_count": 231,
     "metadata": {},
     "output_type": "execute_result"
    }
   ],
   "source": [
    "def regress(X,Y):\n",
    "    X_cp = sm.add_constant(X)\n",
    "    model = sm.OLS(Y,X_cp)\n",
    "    results = model.fit()\n",
    "    return results\n",
    "\n",
    "y = dados['Release Clause']\n",
    "x = dados[['Overall','International Reputation','Potential']]\n",
    "\n",
    "results = regress(x,y)\n",
    "results.summary()"
   ]
  },
  {
   "cell_type": "markdown",
   "metadata": {},
   "source": [
    "### ANÁLISE DESCRITIVA"
   ]
  },
  {
   "cell_type": "code",
   "execution_count": 220,
   "metadata": {},
   "outputs": [
    {
     "name": "stdout",
     "output_type": "stream",
     "text": [
      "Ajuste linear entre Overall e Release Clause:\n",
      "Coeficiente linear: 1437.7446815689852\n",
      "Coeficiente angular: -18.27021442469353\n"
     ]
    },
    {
     "data": {
      "text/html": [
       "<div>\n",
       "<style scoped>\n",
       "    .dataframe tbody tr th:only-of-type {\n",
       "        vertical-align: middle;\n",
       "    }\n",
       "\n",
       "    .dataframe tbody tr th {\n",
       "        vertical-align: top;\n",
       "    }\n",
       "\n",
       "    .dataframe thead th {\n",
       "        text-align: right;\n",
       "    }\n",
       "</style>\n",
       "<table border=\"1\" class=\"dataframe\">\n",
       "  <thead>\n",
       "    <tr style=\"text-align: right;\">\n",
       "      <th></th>\n",
       "      <th>Overall</th>\n",
       "      <th>Release Clause</th>\n",
       "    </tr>\n",
       "  </thead>\n",
       "  <tbody>\n",
       "    <tr>\n",
       "      <th>Overall</th>\n",
       "      <td>1.000000</td>\n",
       "      <td>-0.417279</td>\n",
       "    </tr>\n",
       "    <tr>\n",
       "      <th>Release Clause</th>\n",
       "      <td>-0.417279</td>\n",
       "      <td>1.000000</td>\n",
       "    </tr>\n",
       "  </tbody>\n",
       "</table>\n",
       "</div>"
      ],
      "text/plain": [
       "                 Overall  Release Clause\n",
       "Overall         1.000000       -0.417279\n",
       "Release Clause -0.417279        1.000000"
      ]
     },
     "execution_count": 220,
     "metadata": {},
     "output_type": "execute_result"
    },
    {
     "data": {
      "image/png": "[encoded data removed]",
      "text/plain": [
       "<matplotlib.figure.Figure at 0x17948849f28>"
      ]
     },
     "metadata": {},
     "output_type": "display_data"
    }
   ],
   "source": [
    "#overall x release clause\n",
    "\n",
    "cov2 = dados['Overall'].cov(dados['Release Clause'])\n",
    "\n",
    "var_X2 = dados['Overall'].var()\n",
    "var_Y2 = dados['Release Clause'].var()\n",
    "\n",
    "mX2 = dados['Overall'].mean()\n",
    "mY2 = dados['Release Clause'].mean()\n",
    "\n",
    "a2 = cov2 / var_X2\n",
    "b2 = mY2 - a2*mX2\n",
    "\n",
    "print('Ajuste linear entre Overall e Release Clause:')\n",
    "print('Coeficiente linear:', b2)\n",
    "print('Coeficiente angular:', a2)\n",
    "\n",
    "dados.plot.scatter(x='Overall', y='Release Clause')\n",
    "\n",
    "plt.plot((dados['Overall'].min(), dados['Overall'].max()), \n",
    "         (a2*dados['Overall'].min() + b2, a2*dados['Overall'].max() + b2), color='white')\n",
    "\n",
    "plt.xlabel('Overall')\n",
    "plt.ylabel('Release Clause');\n",
    "\n",
    "dados.loc[:, ['Overall', 'Release Clause']].corr()"
   ]
  },
  {
   "cell_type": "code",
   "execution_count": 197,
   "metadata": {},
   "outputs": [
    {
     "name": "stdout",
     "output_type": "stream",
     "text": [
      "Ajuste linear entre Release Clause e Potential:\n",
      "Coeficiente linear: 1656.9721903346824\n",
      "Coeficiente angular: -20.07485770721811\n"
     ]
    },
    {
     "data": {
      "text/html": [
       "<div>\n",
       "<style scoped>\n",
       "    .dataframe tbody tr th:only-of-type {\n",
       "        vertical-align: middle;\n",
       "    }\n",
       "\n",
       "    .dataframe tbody tr th {\n",
       "        vertical-align: top;\n",
       "    }\n",
       "\n",
       "    .dataframe thead th {\n",
       "        text-align: right;\n",
       "    }\n",
       "</style>\n",
       "<table border=\"1\" class=\"dataframe\">\n",
       "  <thead>\n",
       "    <tr style=\"text-align: right;\">\n",
       "      <th></th>\n",
       "      <th>Release Clause</th>\n",
       "      <th>Potential</th>\n",
       "    </tr>\n",
       "  </thead>\n",
       "  <tbody>\n",
       "    <tr>\n",
       "      <th>Release Clause</th>\n",
       "      <td>1.000000</td>\n",
       "      <td>-0.405872</td>\n",
       "    </tr>\n",
       "    <tr>\n",
       "      <th>Potential</th>\n",
       "      <td>-0.405872</td>\n",
       "      <td>1.000000</td>\n",
       "    </tr>\n",
       "  </tbody>\n",
       "</table>\n",
       "</div>"
      ],
      "text/plain": [
       "                Release Clause  Potential\n",
       "Release Clause        1.000000  -0.405872\n",
       "Potential            -0.405872   1.000000"
      ]
     },
     "execution_count": 197,
     "metadata": {},
     "output_type": "execute_result"
    },
    {
     "data": {
      "image/png": "[encoded data removed]",
      "text/plain": [
       "<matplotlib.figure.Figure at 0x1794bba82e8>"
      ]
     },
     "metadata": {},
     "output_type": "display_data"
    }
   ],
   "source": [
    "#Release Clause e Overall\n",
    "\n",
    "\n",
    "cov = dados[\"Potential\"].cov(dados['Release Clause'])\n",
    "\n",
    "var_X = dados[\"Potential\"].var()\n",
    "var_Y = dados['Release Clause'].var()\n",
    "\n",
    "mX = dados[\"Potential\"].mean()\n",
    "mY = dados['Release Clause'].mean()\n",
    "\n",
    "a = cov / var_X\n",
    "b = mY - a*mX\n",
    "\n",
    "print('Ajuste linear entre Release Clause e Potential:')\n",
    "print('Coeficiente linear:', b)\n",
    "print('Coeficiente angular:', a)\n",
    "\n",
    "dados.plot.scatter(x=\"Potential\", y=\"Release Clause\")\n",
    "\n",
    "plt.plot((dados[\"Potential\"].min(), dados[\"Potential\"].max()), \n",
    "         (a*dados[\"Potential\"].min() + b, a*dados[\"Potential\"].max() + b), color='white')\n",
    "\n",
    "plt.xlabel(\"Potential\")\n",
    "plt.ylabel('Release Clause')\n",
    "\n",
    "dados.loc[:, ['Release Clause', \"Potential\"]].corr()"
   ]
  },
  {
   "cell_type": "code",
   "execution_count": null,
   "metadata": {},
   "outputs": [],
   "source": [
    "        "
   ]
  },
  {
   "cell_type": "code",
   "execution_count": null,
   "metadata": {},
   "outputs": [],
   "source": []
  },
  {
   "cell_type": "markdown",
   "metadata": {},
   "source": [
    "___\n",
    "## C. MODELOS DE PREDIÇÃO\n"
   ]
  },
  {
   "cell_type": "code",
   "execution_count": 219,
   "metadata": {},
   "outputs": [],
   "source": [
    "#Divisão em partes de treino e teste\n",
    "\n",
    "X_train,X_test,y_train,y_test=train_test_split(x,y,test_size=.3,random_state=0)"
   ]
  },
  {
   "cell_type": "markdown",
   "metadata": {
    "collapsed": true
   },
   "source": [
    "o MODELO DE PREDIÇÃO PELA MÉDIA (Sem uso de variável explicativa)."
   ]
  },
  {
   "cell_type": "code",
   "execution_count": 199,
   "metadata": {},
   "outputs": [
    {
     "name": "stdout",
     "output_type": "stream",
     "text": [
      "média = 224.93480974021625\n"
     ]
    }
   ],
   "source": [
    "print('média =',np.mean(y))"
   ]
  },
  {
   "cell_type": "markdown",
   "metadata": {
    "collapsed": true
   },
   "source": [
    "o MODELO DOS K VIZINHOS MAIS PRÓXIMOS (K-Nearest Neighbors Regression)"
   ]
  },
  {
   "cell_type": "code",
   "execution_count": 200,
   "metadata": {},
   "outputs": [],
   "source": [
    "erros = []\n",
    "for i in range(1,20):\n",
    "    clf=KNeighborsRegressor(i)\n",
    "    clf.fit(X_train,y_train)\n",
    "    y_pred1 = clf.predict(X_train)\n",
    "    erro = (mean_squared_error(y_train,y_pred1))\n",
    "    erros.append(erro)"
   ]
  },
  {
   "cell_type": "code",
   "execution_count": 201,
   "metadata": {},
   "outputs": [
    {
     "data": {
      "text/plain": [
       "[<matplotlib.lines.Line2D at 0x179461b7c88>]"
      ]
     },
     "execution_count": 201,
     "metadata": {},
     "output_type": "execute_result"
    },
    {
     "data": {
      "image/png": "[encoded data removed]",
      "text/plain": [
       "<matplotlib.figure.Figure at 0x1794bb82198>"
      ]
     },
     "metadata": {},
     "output_type": "display_data"
    }
   ],
   "source": [
    "plt.plot(range(1,20),erros)"
   ]
  },
  {
   "cell_type": "code",
   "execution_count": 202,
   "metadata": {},
   "outputs": [],
   "source": [
    "k = 10\n",
    "clf=KNeighborsRegressor(k)\n",
    "clf.fit(X_train,y_train)\n",
    "y_pred1 = clf.predict(X_train)"
   ]
  },
  {
   "cell_type": "code",
   "execution_count": 223,
   "metadata": {},
   "outputs": [
    {
     "data": {
      "image/png": "[encoded data removed]",
      "text/plain": [
       "<matplotlib.figure.Figure at 0x17948907710>"
      ]
     },
     "metadata": {},
     "output_type": "display_data"
    }
   ],
   "source": [
    "plt.scatter(y_train,y_pred1);\n",
    "plt.title('K-Nearest Neighbors Regression')\n",
    "plt.ylabel('Preditor')\n",
    "plt.xlabel('Real')\n",
    "plt.show()"
   ]
  },
  {
   "cell_type": "markdown",
   "metadata": {
    "collapsed": true
   },
   "source": [
    "o MODELO DE REGRESSÃO LINEAR (Multiple Linear Regression)"
   ]
  },
  {
   "cell_type": "code",
   "execution_count": 237,
   "metadata": {},
   "outputs": [],
   "source": [
    "model = LinearRegression()\n",
    "model.fit(X_train, y_train)\n",
    "y_pred2 = model.predict(X_train)"
   ]
  },
  {
   "cell_type": "code",
   "execution_count": 238,
   "metadata": {},
   "outputs": [
    {
     "data": {
      "image/png": "[encoded data removed]",
      "text/plain": [
       "<matplotlib.figure.Figure at 0x1794c2fb2b0>"
      ]
     },
     "metadata": {},
     "output_type": "display_data"
    }
   ],
   "source": [
    "plt.scatter(y_train,y_pred2)\n",
    "plt.title('Multiple Linear Regression')\n",
    "plt.ylabel('Preditor')\n",
    "plt.xlabel('Real')\n",
    "plt.show()"
   ]
  },
  {
   "cell_type": "markdown",
   "metadata": {
    "collapsed": true
   },
   "source": [
    "o MODELO DE ÁRVORES DE REGRESSÃO (Decision Tree Regression)"
   ]
  },
  {
   "cell_type": "code",
   "execution_count": 226,
   "metadata": {},
   "outputs": [],
   "source": [
    "regressor = DecisionTreeRegressor(random_state = 0)\n",
    "regressor.fit(X_train,y_train)\n",
    "y_pred3 = regressor.predict(X_train)"
   ]
  },
  {
   "cell_type": "code",
   "execution_count": 227,
   "metadata": {},
   "outputs": [
    {
     "data": {
      "image/png": "[encoded data removed]",
      "text/plain": [
       "<matplotlib.figure.Figure at 0x179489b52e8>"
      ]
     },
     "metadata": {},
     "output_type": "display_data"
    }
   ],
   "source": [
    "plt.scatter(y_train, y_pred3)\n",
    "plt.title('Decision Tree Regression')\n",
    "plt.xlabel('Position level')\n",
    "plt.ylabel('Preditor')\n",
    "plt.show()"
   ]
  },
  {
   "cell_type": "markdown",
   "metadata": {
    "collapsed": true
   },
   "source": [
    "___\n",
    "## D. PROCESSO E ESTATÍSTICAS DE VALIDAÇÃO"
   ]
  },
  {
   "cell_type": "markdown",
   "metadata": {},
   "source": [
    "[Esse item depende dos resultados das modelagens anteriores! Organize-os aqui de forma clara!]"
   ]
  },
  {
   "cell_type": "code",
   "execution_count": null,
   "metadata": {},
   "outputs": [],
   "source": []
  },
  {
   "cell_type": "code",
   "execution_count": null,
   "metadata": {},
   "outputs": [],
   "source": []
  },
  {
   "cell_type": "code",
   "execution_count": null,
   "metadata": {},
   "outputs": [],
   "source": []
  },
  {
   "cell_type": "code",
   "execution_count": null,
   "metadata": {},
   "outputs": [],
   "source": []
  },
  {
   "cell_type": "markdown",
   "metadata": {},
   "source": [
    "___\n",
    "## E. CONCLUSÃO"
   ]
  },
  {
   "cell_type": "code",
   "execution_count": null,
   "metadata": {},
   "outputs": [],
   "source": []
  },
  {
   "cell_type": "code",
   "execution_count": null,
   "metadata": {},
   "outputs": [],
   "source": []
  },
  {
   "cell_type": "code",
   "execution_count": null,
   "metadata": {},
   "outputs": [],
   "source": []
  },
  {
   "cell_type": "code",
   "execution_count": null,
   "metadata": {},
   "outputs": [],
   "source": []
  },
  {
   "cell_type": "markdown",
   "metadata": {},
   "source": [
    "___\n",
    "## F. REFERÊNCIAS BIBLIOGRÁFICAS"
   ]
  },
  {
   "cell_type": "markdown",
   "metadata": {},
   "source": [
    "https://medium.com/data-py-blog/decision-tree-regression-in-python-b185a3c63f2b\n",
    "\n",
    "https://educationalresearchtechniques.com/2018/11/02/k-nearest-neighbor-regression-with-python/\n",
    "\n",
    "https://towardsdatascience.com/random-forests-and-decision-trees-from-scratch-in-python-3e4fa5ae4249\n",
    "\n",
    "https://ensinandomaquinasblog.wordpress.com/2017/12/15/modelos-preditivos-de-notas-de-redacao-do-enem-2015/\n",
    "\n",
    "https://machinelearningmastery.com/overfitting-and-underfitting-with-machine-learning-algorithms/"
   ]
  }
 ],
 "metadata": {
  "anaconda-cloud": {},
  "kernelspec": {
   "display_name": "Python 3",
   "language": "python",
   "name": "python3"
  },
  "language_info": {
   "codemirror_mode": {
    "name": "ipython",
    "version": 3
   },
   "file_extension": ".py",
   "mimetype": "text/x-python",
   "name": "python",
   "nbconvert_exporter": "python",
   "pygments_lexer": "ipython3",
   "version": "3.6.4"
  }
 },
 "nbformat": 4,
 "nbformat_minor": 1
}
